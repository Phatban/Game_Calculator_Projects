{
 "cells": [
  {
   "cell_type": "markdown",
   "id": "57b2b25c",
   "metadata": {},
   "source": [
    "# 📊 Expected Value & RTP Calculator\n",
    "\n",
    "## Overview\n",
    "Calculates the expected return and RTP (Return to Player) for defined reward schemes.\n",
    "\n",
    "## Goals\n",
    "- Define a reward structure with probabilities.\n",
    "- Compute expected value and RTP.\n",
    "- Visualize potential payout outcomes.\n"
   ]
  },
  {
   "cell_type": "markdown",
   "id": "bab2de80",
   "metadata": {},
   "source": [
    "# 🎲 Expected Value & RTP Calculator\n",
    "\n",
    "This notebook computes the expected value (EV) and return-to-player (RTP) for a simple 3-outcome game."
   ]
  },
  {
   "cell_type": "markdown",
   "id": "6976782a",
   "metadata": {},
   "source": [
    "## 📋 Game Description\n",
    "- Bet amount: 100 points\n",
    "- Outcomes:\n",
    "  - x2 (10% chance, payout = 200)\n",
    "  - x0.5 (30% chance, payout = 50)\n",
    "  - miss (60% chance, payout = 0)"
   ]
  },
  {
   "cell_type": "code",
   "execution_count": null,
   "id": "deeccfef",
   "metadata": {},
   "outputs": [],
   "source": [
    "# Define the outcome data for the game\n",
    "outcomes = [\n",
    "    {\"label\": \"x2\", \"payout\": 200, \"prob\": 0.1},\n",
    "    {\"label\": \"x0.5\", \"payout\": 50, \"prob\": 0.3},\n",
    "    {\"label\": \"miss\", \"payout\": 0, \"prob\": 0.6}\n",
    "]\n",
    "\n",
    "# Fixed bet amount per play\n",
    "bet_amount = 100"
   ]
  },
  {
   "cell_type": "code",
   "execution_count": null,
   "id": "8dd1a42e",
   "metadata": {},
   "outputs": [],
   "source": [
    "# Function to calculate expected value (EV)\n",
    "def expected_value():\n",
    "    ev = 0\n",
    "    for outcome in outcomes:\n",
    "        ev += outcome[\"payout\"] * outcome[\"prob\"]\n",
    "    return ev"
   ]
  },
  {
   "cell_type": "code",
   "execution_count": null,
   "id": "0d9b3eaa",
   "metadata": {},
   "outputs": [],
   "source": [
    "# Function to calculate RTP (Return to Player)\n",
    "def rtp():\n",
    "    return expected_value() / bet_amount"
   ]
  },
  {
   "cell_type": "code",
   "execution_count": null,
   "id": "e601e50e",
   "metadata": {},
   "outputs": [],
   "source": [
    "# Run and print results\n",
    "ev = expected_value()\n",
    "print(f\"Expected value per play: {ev}\")\n",
    "print(f\"RTP (Return to Player): {rtp() * 100:.2f}%\")"
   ]
  },
  {
   "cell_type": "markdown",
   "id": "2299c1fd",
   "metadata": {},
   "source": [
    "## 📊 Visualization"
   ]
  },
  {
   "cell_type": "code",
   "execution_count": null,
   "id": "b683feff",
   "metadata": {},
   "outputs": [],
   "source": [
    "\n",
    "import matplotlib.pyplot as plt\n",
    "\n",
    "# Bar chart of rewards and probabilities\n",
    "plt.figure(figsize=(8,5))\n",
    "plt.bar([str(k) for k in rewards.keys()], list(rewards.values()), color='skyblue')\n",
    "plt.xlabel(\"Reward\")\n",
    "plt.ylabel(\"Probability\")\n",
    "plt.title(\"Reward Probability Distribution\")\n",
    "plt.grid(True)\n",
    "plt.show()\n"
   ]
  }
 ],
 "metadata": {},
 "nbformat": 4,
 "nbformat_minor": 5
}

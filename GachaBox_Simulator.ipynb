{
 "cells": [
  {
   "cell_type": "markdown",
   "id": "eed41bba",
   "metadata": {},
   "source": [
    "# 🎁 Gacha Box Simulator\n",
    "\n",
    "## Overview\n",
    "Simulates Gacha box pulls and analyzes the distribution of items received.\n",
    "\n",
    "## Goals\n",
    "- Simulate random Gacha pulls with tiered rarity.\n",
    "- Track and visualize obtained items.\n",
    "- Analyze probability of acquiring rare items over time.\n"
   ]
  },
  {
   "cell_type": "markdown",
   "metadata": {},
   "source": [
    "# 🎯 Gacha Box Simulator\n",
    "\n",
    "Simulates a Gacha (loot box) system with rarity levels and a pity mechanic after multiple failed attempts."
   ]
  },
  {
   "cell_type": "markdown",
   "metadata": {},
   "source": [
    "## 🔢 Rarity Distribution\n",
    "- Common: 60%\n",
    "- Rare: 25%\n",
    "- Epic: 10%\n",
    "- Legendary: 5%\n",
    "\n",
    "**Pity System:** Guaranteed Epic if no Epic or higher after 20 pulls."
   ]
  },
  {
   "cell_type": "code",
   "execution_count": null,
   "metadata": {},
   "outputs": [],
   "source": [
    "import numpy as np\n",
    "from collections import Counter\n",
    "\n",
    "rarities = ['Common', 'Rare', 'Epic', 'Legendary']\n",
    "weights = [0.6, 0.25, 0.1, 0.05]\n",
    "\n",
    "def gacha_pull():\n",
    "    return np.random.choice(rarities, p=weights)"
   ]
  },
  {
   "cell_type": "code",
   "execution_count": null,
   "metadata": {},
   "outputs": [],
   "source": [
    "def simulate_gacha(n_trials=10000):\n",
    "    results = []\n",
    "    pity_counter = 0\n",
    "\n",
    "    for _ in range(n_trials):\n",
    "        pull = gacha_pull()\n",
    "        pity_counter += 1\n",
    "\n",
    "        if pity_counter >= 20:\n",
    "            pull = 'Epic'\n",
    "            pity_counter = 0\n",
    "        elif pull in ['Epic', 'Legendary']:\n",
    "            pity_counter = 0\n",
    "\n",
    "        results.append(pull)\n",
    "\n",
    "    return Counter(results)"
   ]
  },
  {
   "cell_type": "code",
   "execution_count": null,
   "metadata": {},
   "outputs": [],
   "source": [
    "sim_results = simulate_gacha()\n",
    "for rarity, count in sim_results.items():\n",
    "    print(f\"{rarity}: {count} ({count / sum(sim_results.values()) * 100:.2f}%)\")"
   ]
  },
  {
   "cell_type": "markdown",
   "id": "c992341b",
   "metadata": {},
   "source": [
    "## 📊 Visualization"
   ]
  },
  {
   "cell_type": "code",
   "execution_count": null,
   "id": "9ec6ecea",
   "metadata": {},
   "outputs": [],
   "source": [
    "\n",
    "import matplotlib.pyplot as plt\n",
    "\n",
    "# Pie chart of item distribution\n",
    "labels = list(result_counts.keys())\n",
    "sizes = list(result_counts.values())\n",
    "\n",
    "plt.figure(figsize=(6,6))\n",
    "plt.pie(sizes, labels=labels, autopct='%1.1f%%', startangle=140)\n",
    "plt.title(\"Gacha Box Pull Distribution\")\n",
    "plt.axis('equal')\n",
    "plt.show()\n"
   ]
  }
 ],
 "metadata": {
  "kernelspec": {
   "display_name": "Python 3",
   "language": "python",
   "name": "python3"
  },
  "language_info": {
   "name": "python"
  }
 },
 "nbformat": 4,
 "nbformat_minor": 2
}

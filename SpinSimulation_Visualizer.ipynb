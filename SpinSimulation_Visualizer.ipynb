{
 "cells": [
  {
   "cell_type": "markdown",
   "id": "0278a0c2",
   "metadata": {},
   "source": [
    "## 🎲 Simulation"
   ]
  },
  {
   "cell_type": "markdown",
   "id": "321b8285",
   "metadata": {},
   "source": [
    "## 🎲 Simulation"
   ]
  },
  {
   "cell_type": "markdown",
   "id": "ff1acb8b",
   "metadata": {},
   "source": [
    "## 🎯 Game Setup\n",
    "- 5 possible prizes:\n",
    "  - Jackpot (1%)\n",
    "  - Big Win (5%)\n",
    "  - Small Win (20%)\n",
    "  - Consolation (50%)\n",
    "  - Miss (24%)\n",
    "- Run 10,000 spins to observe result frequencies."
   ]
  },
  {
   "cell_type": "code",
   "execution_count": null,
   "id": "3fedc1fb",
   "metadata": {},
   "outputs": [],
   "source": [
    "import random\n",
    "import matplotlib.pyplot as plt"
   ]
  },
  {
   "cell_type": "code",
   "execution_count": null,
   "id": "da24653e",
   "metadata": {},
   "outputs": [],
   "source": [
    "# Define rewards and their associated probabilities\n",
    "rewards = [\"Jackpot\", \"Big Win\", \"Small Win\", \"Consolation\", \"Miss\"]\n",
    "probabilities = [0.01, 0.05, 0.20, 0.50, 0.24]\n",
    "\n",
    "# Sanity check to ensure probabilities sum to 1\n",
    "assert abs(sum(probabilities) - 1.0) < 1e-6, \"Probabilities must sum to 1\" "
   ]
  },
  {
   "cell_type": "code",
   "execution_count": null,
   "id": "b9ffa41d",
   "metadata": {},
   "outputs": [],
   "source": [
    "# Simulate a single spin\n",
    "def simulate_spin():\n",
    "    return random.choices(rewards, probabilities)[0]"
   ]
  },
  {
   "cell_type": "code",
   "execution_count": null,
   "id": "47e40b87",
   "metadata": {},
   "outputs": [],
   "source": [
    "# Run the simulation for n spins and collect results\n",
    "def run_simulation(n_spins=10000):\n",
    "    result_counter = {reward: 0 for reward in rewards}\n",
    "    for _ in range(n_spins):\n",
    "        result = simulate_spin()\n",
    "        result_counter[result] += 1\n",
    "    return result_counter"
   ]
  },
  {
   "cell_type": "code",
   "execution_count": null,
   "id": "083536fc",
   "metadata": {},
   "outputs": [],
   "source": [
    "# Plot observed vs expected results\n",
    "def plot_results(results, n_spins):\n",
    "    labels = results.keys()\n",
    "    values = [results[r] / n_spins for r in labels]  # Observed probabilities\n",
    "    expected = probabilities  # Expected probabilities\n",
    "\n",
    "    x = range(len(labels))\n",
    "    plt.bar(x, values, width=0.4, label='Observed', align='center')\n",
    "    plt.bar([i + 0.4 for i in x], expected, width=0.4, label='Expected', align='center')\n",
    "    plt.xticks([i + 0.2 for i in x], labels)\n",
    "    plt.ylabel(\"Probability\")\n",
    "    plt.title(\"Observed vs Expected Probabilities\")\n",
    "    plt.legend()\n",
    "    plt.tight_layout()\n",
    "    plt.show()"
   ]
  },
  {
   "cell_type": "code",
   "execution_count": null,
   "id": "36cfc1df",
   "metadata": {},
   "outputs": [],
   "source": [
    "# Run and visualize the simulation\n",
    "spins = 10000\n",
    "results = run_simulation(spins)\n",
    "print(\"Simulation results:\", results)\n",
    "plot_results(results, spins)"
   ]
  }
 ],
 "metadata": {},
 "nbformat": 4,
 "nbformat_minor": 5
}

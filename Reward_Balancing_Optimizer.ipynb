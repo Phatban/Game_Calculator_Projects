{
 "cells": [
  {
   "cell_type": "markdown",
   "id": "b33b296c",
   "metadata": {},
   "source": [
    "# ⚖️ Reward Balancing Optimizer\n",
    "\n",
    "## Overview\n",
    "Optimizes reward values to meet a target RTP using numerical approaches.\n",
    "\n",
    "## Goals\n",
    "- Set a target RTP.\n",
    "- Iteratively adjust rewards to match the target.\n",
    "- Evaluate performance and convergence.\n"
   ]
  },
  {
   "cell_type": "markdown",
   "metadata": {},
   "source": [
    "# 💸 Reward Balancing Optimizer\n",
    "\n",
    "This notebook demonstrates how to use linear programming to optimize game rewards, ensuring fairness and budget constraints are met."
   ]
  },
  {
   "cell_type": "markdown",
   "metadata": {},
   "source": [
    "## 🎯 Objective\n",
    "- Maximize expected player satisfaction (weighted by reward value)\n",
    "- Subject to budget constraints on total expected payout"
   ]
  },
  {
   "cell_type": "code",
   "execution_count": null,
   "metadata": {},
   "outputs": [],
   "source": [
    "from scipy.optimize import linprog\n",
    "import numpy as np\n",
    "\n",
    "# Reward tiers\n",
    "rewards = np.array([10, 20, 50, 100])  # reward values\n",
    "satisfaction = np.array([1, 2, 4, 8])  # subjective weights for satisfaction\n",
    "\n",
    "# Constraints\n",
    "budget = 20  # expected payout per spin (upper bound)\n",
    "\n",
    "# Objective: Maximize satisfaction => minimize negative satisfaction\n",
    "c = -satisfaction\n",
    "\n",
    "# Total probability constraint: sum(p) = 1\n",
    "A_eq = [np.ones_like(rewards)]\n",
    "b_eq = [1]\n",
    "\n",
    "# Expected payout constraint: dot(p, rewards) <= budget\n",
    "A_ub = [rewards]\n",
    "b_ub = [budget]\n",
    "\n",
    "# Bounds: probability between 0 and 1\n",
    "bounds = [(0, 1) for _ in rewards]\n",
    "\n",
    "res = linprog(c, A_ub=A_ub, b_ub=b_ub, A_eq=A_eq, b_eq=b_eq, bounds=bounds, method='highs')"
   ]
  },
  {
   "cell_type": "code",
   "execution_count": null,
   "metadata": {},
   "outputs": [],
   "source": [
    "if res.success:\n",
    "    print(\"Optimized reward distribution:\")\n",
    "    for r, p in zip(rewards, res.x):\n",
    "        print(f\"Reward {r}: {p*100:.2f}%\")\n",
    "    expected_payout = np.dot(res.x, rewards)\n",
    "    expected_satisfaction = np.dot(res.x, satisfaction)\n",
    "    print(f\"Expected Payout: {expected_payout:.2f}\")\n",
    "    print(f\"Expected Satisfaction: {expected_satisfaction:.2f}\")\n",
    "else:\n",
    "    print(\"Optimization failed.\")"
   ]
  }
 ],
 "metadata": {
  "kernelspec": {
   "display_name": "Python 3",
   "language": "python",
   "name": "python3"
  },
  "language_info": {
   "name": "python"
  }
 },
 "nbformat": 4,
 "nbformat_minor": 2
}

{
 "cells": [
  {
   "cell_type": "markdown",
   "id": "5fec3091",
   "metadata": {},
   "source": [
    "## 🎲 Simulation"
   ]
  },
  {
   "cell_type": "markdown",
   "metadata": {},
   "source": [
    "# 🎰 Slot Machine Math Model Simulator\n",
    "\n",
    "This notebook demonstrates a basic 3x3 slot machine simulator with custom symbol distribution and reward logic. It calculates both theoretical RTP (Return to Player) and simulates thousands of spins to verify its accuracy."
   ]
  },
  {
   "cell_type": "markdown",
   "metadata": {},
   "source": [
    "## 📐 Model Description\n",
    "\n",
    "Symbols: A, B, C, D, E  \n",
    "Weights (Probabilities): A - 30%, B - 25%, C - 20%, D - 15%, E - 10%  \n",
    "\n",
    "**Reward rules** (Only applies when 3 same symbols in a row):\n",
    "\n",
    "| Symbol | Reward (x bet) |\n",
    "|--------|----------------|\n",
    "| A      | 5x             |\n",
    "| B      | 10x            |\n",
    "| C      | 20x            |\n",
    "| D      | 50x            |\n",
    "| E      | 100x           |"
   ]
  },
  {
   "cell_type": "markdown",
   "metadata": {},
   "source": [
    "## 🧮 Theoretical RTP Calculation\n",
    "\n",
    "$$\n",
    "\\text{RTP} = \\sum_{i=A}^{E} (p_i^3 \\times \\text{Reward}_i)\n",
    "$$"
   ]
  },
  {
   "cell_type": "code",
   "execution_count": null,
   "metadata": {},
   "outputs": [],
   "source": [
    "symbol_probs = {\n",
    "    'A': 0.3,\n",
    "    'B': 0.25,\n",
    "    'C': 0.2,\n",
    "    'D': 0.15,\n",
    "    'E': 0.1\n",
    "}\n",
    "\n",
    "rewards = {\n",
    "    'A': 5,\n",
    "    'B': 10,\n",
    "    'C': 20,\n",
    "    'D': 50,\n",
    "    'E': 100\n",
    "}\n",
    "\n",
    "rtp = sum((p**3) * rewards[symbol] for symbol, p in symbol_probs.items())\n",
    "print(f\"Theoretical RTP: {rtp:.4f} or {rtp*100:.2f}%\")"
   ]
  },
  {
   "cell_type": "code",
   "execution_count": null,
   "metadata": {},
   "outputs": [],
   "source": [
    "import numpy as np\n",
    "\n",
    "symbols = list(symbol_probs.keys())\n",
    "weights = list(symbol_probs.values())\n",
    "\n",
    "def spin_row():\n",
    "    return np.random.choice(symbols, size=3, p=weights)\n",
    "\n",
    "def row_reward(row, bet=1):\n",
    "    return bet * rewards[row[0]] if row[0] == row[1] == row[2] else 0"
   ]
  },
  {
   "cell_type": "code",
   "execution_count": null,
   "metadata": {},
   "outputs": [],
   "source": [
    "def simulate_slot(n_rounds=100_000, bet_per_spin=1):\n",
    "    total_bet = n_rounds * 3 * bet_per_spin\n",
    "    total_reward = 0\n",
    "\n",
    "    for _ in range(n_rounds):\n",
    "        for _ in range(3):\n",
    "            row = spin_row()\n",
    "            total_reward += row_reward(row, bet_per_spin)\n",
    "\n",
    "    return total_reward / total_bet"
   ]
  },
  {
   "cell_type": "code",
   "execution_count": null,
   "metadata": {},
   "outputs": [],
   "source": [
    "simulated_rtp = simulate_slot()\n",
    "print(f\"Simulated RTP: {simulated_rtp:.4f} or {simulated_rtp*100:.2f}%\")"
   ]
  }
 ],
 "metadata": {
  "kernelspec": {
   "display_name": "Python 3",
   "language": "python",
   "name": "python3"
  },
  "language_info": {
   "name": "python",
   "version": ""
  }
 },
 "nbformat": 4,
 "nbformat_minor": 2
}
